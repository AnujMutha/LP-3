{
  "nbformat": 4,
  "nbformat_minor": 0,
  "metadata": {
    "colab": {
      "provenance": []
    },
    "kernelspec": {
      "name": "python3",
      "display_name": "Python 3"
    },
    "language_info": {
      "name": "python"
    }
  },
  "cells": [
    {
      "cell_type": "code",
      "source": [
        "def isSafe(board, row, col, N):\n",
        "  for i in range(col):\n",
        "    if board[row][i]:\n",
        "      # print(\"Heloooo\")\n",
        "      return False\n",
        "  i = row\n",
        "  j= col\n",
        "  while i>=0 and j>=0:\n",
        "      if(board[i][j]):\n",
        "        # print(\"WPPPPP\")\n",
        "        return False\n",
        "      i-=1\n",
        "      j-=1\n",
        "\n",
        "  i=row+1\n",
        "  j = col-1\n",
        "  while i<N and j>=0:\n",
        "    if(board[i][j]):\n",
        "      # print(\"HAAAAAAAAA\")\n",
        "      return False\n",
        "    i+=1\n",
        "    j-=1\n",
        "  return True\n",
        "      "
      ],
      "metadata": {
        "id": "mdyRGsdXCXf2"
      },
      "execution_count": null,
      "outputs": []
    },
    {
      "cell_type": "code",
      "source": [
        "def print_Q(board, N):\n",
        "  for i in range(N):\n",
        "    for j in range(N):\n",
        "      if(board[i][j]):\n",
        "        print(\"Q\", end=\" \")\n",
        "      else:\n",
        "        print(\"-\", end=\" \")\n",
        "    print()"
      ],
      "metadata": {
        "id": "C9y1SlT2dPoB"
      },
      "execution_count": null,
      "outputs": []
    },
    {
      "cell_type": "code",
      "source": [
        "def  N_Queens(board, col, N,cnt):\n",
        "  if col>=N:\n",
        "    print_Q(board, N)\n",
        "    print()\n",
        "    return 1\n",
        "  x = 0\n",
        "  for i in range(N):\n",
        "    # print(i, col)\n",
        "    if(isSafe(board, i, col, N)):\n",
        "      # print(\"Hiii\",i, col)\n",
        "      board[i][col]=1\n",
        "      # print_Q(board, N)\n",
        "      # print()\n",
        "      x += N_Queens(board, col+1, N, cnt)\n",
        "      board[i][col]=0\n",
        "      # print_Q(board, N)\n",
        "      # print()\n",
        "  return x\n",
        "\n",
        "\n"
      ],
      "metadata": {
        "id": "9wRAMBrrce2w"
      },
      "execution_count": null,
      "outputs": []
    },
    {
      "cell_type": "code",
      "source": [
        "n = int(input())\n",
        "board = [[0 for j in range(n)] for i in range(n)]\n",
        "print(board)\n",
        "cnt=0\n",
        "x = N_Queens(board, 0, n, cnt)\n",
        "print(x)"
      ],
      "metadata": {
        "colab": {
          "base_uri": "https://localhost:8080/"
        },
        "id": "dtvmD1yxgDoG",
        "outputId": "cc09dce7-a2fb-4046-c4ce-ff2d0408f220"
      },
      "execution_count": null,
      "outputs": [
        {
          "output_type": "stream",
          "name": "stdout",
          "text": [
            "4\n",
            "[[0, 0, 0, 0], [0, 0, 0, 0], [0, 0, 0, 0], [0, 0, 0, 0]]\n",
            "- - Q - \n",
            "Q - - - \n",
            "- - - Q \n",
            "- Q - - \n",
            "\n",
            "- Q - - \n",
            "- - - Q \n",
            "Q - - - \n",
            "- - Q - \n",
            "\n",
            "2\n"
          ]
        }
      ]
    },
    {
      "cell_type": "code",
      "source": [
        "class n_queens:\n",
        "  def  __init__(self):\n",
        "    self.n = 0\n",
        "    self.board = []\n",
        "    self.ld = []\n",
        "    self.rd = []\n",
        "    self.col = []\n",
        "    self.row = []\n",
        "    self.x=0\n",
        "    self.y=0\n",
        "    self.create()\n",
        "    \n",
        "\n",
        "  def create(self):\n",
        "    self.n = int(input(\"Enter the dimension of the board: \"))\n",
        "    self.board = [[0]*self.n for i in range(self.n)]\n",
        "    x = int(input(\"Enter the x psoition of the first queen: \"))\n",
        "    y=int(input(\"Enter the y position of the first queen: \"))\n",
        "    self.x = x\n",
        "    self.y=y\n",
        "    self.ld = [0]*(2*self.n - 1)\n",
        "    self.rd = [0]*(2*self.n - 1)\n",
        "    self.col = [0]*self.n\n",
        "    self.row= [0]*self.n\n",
        "    self.board[x][y] = 1\n",
        "    self.ld[x-y+self.n-1] =1\n",
        "    self.rd[x+y]=1\n",
        "    self.col[y]=1\n",
        "    self.row[x]=1\n",
        "\n",
        "  def display(self):\n",
        "    for i in range(self.n):\n",
        "      for j in range(self.n):\n",
        "        if(self.board[i][j]):\n",
        "          print(\"Q\", end = \" \")\n",
        "        else:\n",
        "          print(\"-\", end=\" \")\n",
        "      print()\n",
        "\n",
        "  def n_queens(self, col):\n",
        "    if(col == self.n):\n",
        "       self.display()\n",
        "       print()\n",
        "       return\n",
        "    \n",
        "    for i in range(self.n):\n",
        "        if(self.x==i and self.y==col):\n",
        "          self.n_queens(col+1)\n",
        "        # print(i, col)\n",
        "        # print(\"ld\", self.ld[i-col+self.n-1])\n",
        "        # print(\"rd \", self.rd[i+col])\n",
        "        # print(\"col\", self.col[col])\n",
        "        # print(\"row\", self.row[i])\n",
        "        if not (self.ld[i-col+self.n-1] or self.rd[i+col] or self.col[col] or self.row[i]):\n",
        "          # print(i, col)\n",
        "          self.board[i][col]=1\n",
        "          self.ld[i-col+self.n-1] =1\n",
        "          self.rd[i+col]=1\n",
        "          self.col[col]=1\n",
        "          self.row[i]=1\n",
        "\n",
        "          self.n_queens(col+1)\n",
        "\n",
        "          self.board[i][col]=0\n",
        "          self.ld[i-col+self.n-1] =0\n",
        "          self.rd[i+col]=0\n",
        "          self.col[col]=0\n",
        "          self.row[i]=0\n",
        "\n",
        "\n"
      ],
      "metadata": {
        "id": "p-ujSYnegfsL"
      },
      "execution_count": 1,
      "outputs": []
    },
    {
      "cell_type": "code",
      "source": [
        "x = n_queens()"
      ],
      "metadata": {
        "colab": {
          "base_uri": "https://localhost:8080/"
        },
        "id": "QqpjLbZEn6m1",
        "outputId": "7ae7ab29-9290-4efc-86d5-b9937e771787"
      },
      "execution_count": null,
      "outputs": [
        {
          "name": "stdout",
          "output_type": "stream",
          "text": [
            "Enter the dimension of the board: 6\n",
            "Enter the x psoition of the first queen: 0\n",
            "Enter the y position of the first queen: 2\n"
          ]
        }
      ]
    },
    {
      "cell_type": "code",
      "source": [
        "x.n_queens(0)"
      ],
      "metadata": {
        "colab": {
          "base_uri": "https://localhost:8080/"
        },
        "id": "zsiabNGy0hls",
        "outputId": "e67a6c6a-4c80-498e-d7bc-f9bf921f08fa"
      },
      "execution_count": null,
      "outputs": [
        {
          "output_type": "stream",
          "name": "stdout",
          "text": [
            "- - Q - - - \n",
            "- - - - - Q \n",
            "- Q - - - - \n",
            "- - - - Q - \n",
            "Q - - - - - \n",
            "- - - Q - - \n",
            "\n"
          ]
        }
      ]
    },
    {
      "cell_type": "code",
      "source": [],
      "metadata": {
        "id": "pJMiQ9Gx0oii"
      },
      "execution_count": null,
      "outputs": []
    }
  ]
}